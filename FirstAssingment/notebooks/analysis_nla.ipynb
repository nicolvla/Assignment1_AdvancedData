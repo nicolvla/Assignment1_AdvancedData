{
 "cells": [
  {
   "cell_type": "code",
   "execution_count": 160,
   "id": "8370643c-1639-4ce1-b050-59c4bf175479",
   "metadata": {},
   "outputs": [],
   "source": [
    "import pandas as pd\n",
    "import matplotlib.pyplot as plt"
   ]
  },
  {
   "cell_type": "code",
   "execution_count": 161,
   "id": "48bd3149-c051-4a52-b927-ab184d0d5576",
   "metadata": {},
   "outputs": [],
   "source": [
    "scams = pd.read_csv('../data/DCWP_Consumer_Complaints_20251010.csv',\n",
    "                   parse_dates=['Intake Date'],\n",
    "                   dayfirst=False,\n",
    "                   low_memory=False\n",
    ")"
   ]
  },
  {
   "cell_type": "code",
   "execution_count": 162,
   "id": "1fda233f-1046-4b15-9365-af427d64d9d7",
   "metadata": {},
   "outputs": [
    {
     "name": "stdout",
     "output_type": "stream",
     "text": [
      "['Record ID', 'Intake Date', 'Intake Channel', '311 SR Number', 'Business Category', 'Complaint Code', 'Business Unique ID', 'Business Name', 'Result Date', 'Result', 'Referred To', 'Contract Cancelled Amount', 'Refund Amount', 'Address Type', 'Building Nbr', 'Street1', 'Street2', 'Street3', 'Unit Type', 'Apt/Suite', 'City', 'State', 'Postcode', 'Borough', 'Community Board', 'Council District', 'BIN', 'BBL', 'NTA', 'Census Block (2010)', 'Census Tract (2010)', 'Latitude', 'Longitude']\n"
     ]
    }
   ],
   "source": [
    "print(scams.columns.tolist())"
   ]
  },
  {
   "cell_type": "code",
   "execution_count": 163,
   "id": "5170a1a1-d21d-43ee-b0b0-21d8e9febda4",
   "metadata": {},
   "outputs": [],
   "source": [
    "scams1 = scams.drop(columns=[\n",
    "    'Record ID',\n",
    "    '311 SR Number',\n",
    "    'Business Unique ID',\n",
    "    'Contract Cancelled Amount',\n",
    "    'Refund Amount',\n",
    "    'Address Type',\n",
    "    'BIN',\n",
    "    'BBL',\n",
    "    'NTA',\n",
    "    'Census Block (2010)',\n",
    "    'Census Tract (2010)'])"
   ]
  },
  {
   "cell_type": "code",
   "execution_count": 164,
   "id": "ed89e458-3319-4be3-b239-2072bb6bcb56",
   "metadata": {},
   "outputs": [
    {
     "data": {
      "text/html": [
       "<div>\n",
       "<style scoped>\n",
       "    .dataframe tbody tr th:only-of-type {\n",
       "        vertical-align: middle;\n",
       "    }\n",
       "\n",
       "    .dataframe tbody tr th {\n",
       "        vertical-align: top;\n",
       "    }\n",
       "\n",
       "    .dataframe thead th {\n",
       "        text-align: right;\n",
       "    }\n",
       "</style>\n",
       "<table border=\"1\" class=\"dataframe\">\n",
       "  <thead>\n",
       "    <tr style=\"text-align: right;\">\n",
       "      <th></th>\n",
       "      <th>Intake Date</th>\n",
       "      <th>Intake Channel</th>\n",
       "      <th>Business Category</th>\n",
       "      <th>Complaint Code</th>\n",
       "      <th>Business Name</th>\n",
       "      <th>Result Date</th>\n",
       "      <th>Result</th>\n",
       "      <th>Referred To</th>\n",
       "      <th>Building Nbr</th>\n",
       "      <th>Street1</th>\n",
       "      <th>...</th>\n",
       "      <th>Unit Type</th>\n",
       "      <th>Apt/Suite</th>\n",
       "      <th>City</th>\n",
       "      <th>State</th>\n",
       "      <th>Postcode</th>\n",
       "      <th>Borough</th>\n",
       "      <th>Community Board</th>\n",
       "      <th>Council District</th>\n",
       "      <th>Latitude</th>\n",
       "      <th>Longitude</th>\n",
       "    </tr>\n",
       "  </thead>\n",
       "  <tbody>\n",
       "    <tr>\n",
       "      <th>0</th>\n",
       "      <td>2025-08-27</td>\n",
       "      <td>311</td>\n",
       "      <td>Other</td>\n",
       "      <td>Other - Z01</td>\n",
       "      <td>WILLIAMS CANDY SHOP</td>\n",
       "      <td>08/27/2025</td>\n",
       "      <td>No Jurisdiction</td>\n",
       "      <td>NaN</td>\n",
       "      <td>1318</td>\n",
       "      <td>SURF AVE</td>\n",
       "      <td>...</td>\n",
       "      <td>NaN</td>\n",
       "      <td>NaN</td>\n",
       "      <td>BROOKLYN</td>\n",
       "      <td>NY</td>\n",
       "      <td>11224</td>\n",
       "      <td>Brooklyn</td>\n",
       "      <td>313.0</td>\n",
       "      <td>47.0</td>\n",
       "      <td>40.575535</td>\n",
       "      <td>-73.981847</td>\n",
       "    </tr>\n",
       "    <tr>\n",
       "      <th>1</th>\n",
       "      <td>2025-08-27</td>\n",
       "      <td>311</td>\n",
       "      <td>Misc Non-Food Retail</td>\n",
       "      <td>Advertising/Misleading - A02</td>\n",
       "      <td>FRUIT GARDEN DELI</td>\n",
       "      <td>08/27/2025</td>\n",
       "      <td>Complaint Review Complete</td>\n",
       "      <td>NaN</td>\n",
       "      <td>1624</td>\n",
       "      <td>SHEEPSHEAD BAY RD</td>\n",
       "      <td>...</td>\n",
       "      <td>NaN</td>\n",
       "      <td>NaN</td>\n",
       "      <td>BROOKLYN</td>\n",
       "      <td>NY</td>\n",
       "      <td>11235</td>\n",
       "      <td>Brooklyn</td>\n",
       "      <td>315.0</td>\n",
       "      <td>48.0</td>\n",
       "      <td>40.586786</td>\n",
       "      <td>-73.952569</td>\n",
       "    </tr>\n",
       "    <tr>\n",
       "      <th>2</th>\n",
       "      <td>2025-08-27</td>\n",
       "      <td>311</td>\n",
       "      <td>Drug Store Retail</td>\n",
       "      <td>Non-Delivery of Goods - N01</td>\n",
       "      <td>Care first Pharmacy</td>\n",
       "      <td>08/27/2025</td>\n",
       "      <td>Referred</td>\n",
       "      <td>NYS Department of Education: Office of Profess...</td>\n",
       "      <td>3908</td>\n",
       "      <td>WHITE PLAINS RD</td>\n",
       "      <td>...</td>\n",
       "      <td>NaN</td>\n",
       "      <td>NaN</td>\n",
       "      <td>BRONX</td>\n",
       "      <td>NY</td>\n",
       "      <td>10466</td>\n",
       "      <td>Bronx</td>\n",
       "      <td>212.0</td>\n",
       "      <td>12.0</td>\n",
       "      <td>40.886003</td>\n",
       "      <td>-73.861454</td>\n",
       "    </tr>\n",
       "    <tr>\n",
       "      <th>3</th>\n",
       "      <td>2025-08-27</td>\n",
       "      <td>311</td>\n",
       "      <td>Grocery-Retail</td>\n",
       "      <td>Advertising/Misleading - A02</td>\n",
       "      <td>KINGS ONE DELI AND GRILL</td>\n",
       "      <td>08/27/2025</td>\n",
       "      <td>Complaint Review Complete</td>\n",
       "      <td>NaN</td>\n",
       "      <td>1424</td>\n",
       "      <td>SHEEPSHEAD BAY RD</td>\n",
       "      <td>...</td>\n",
       "      <td>NaN</td>\n",
       "      <td>NaN</td>\n",
       "      <td>BROOKLYN</td>\n",
       "      <td>NY</td>\n",
       "      <td>11235</td>\n",
       "      <td>Brooklyn</td>\n",
       "      <td>315.0</td>\n",
       "      <td>48.0</td>\n",
       "      <td>40.587462</td>\n",
       "      <td>-73.954509</td>\n",
       "    </tr>\n",
       "    <tr>\n",
       "      <th>4</th>\n",
       "      <td>2025-08-27</td>\n",
       "      <td>311</td>\n",
       "      <td>Dry Cleaners</td>\n",
       "      <td>Overcharge</td>\n",
       "      <td>Bright Cleaners</td>\n",
       "      <td>08/27/2025</td>\n",
       "      <td>Insufficient Info Received</td>\n",
       "      <td>NaN</td>\n",
       "      <td>1406</td>\n",
       "      <td>1ST AVE</td>\n",
       "      <td>...</td>\n",
       "      <td>NaN</td>\n",
       "      <td>NaN</td>\n",
       "      <td>NEW YORK</td>\n",
       "      <td>NY</td>\n",
       "      <td>10021</td>\n",
       "      <td>Manhattan</td>\n",
       "      <td>108.0</td>\n",
       "      <td>5.0</td>\n",
       "      <td>40.769358</td>\n",
       "      <td>-73.954851</td>\n",
       "    </tr>\n",
       "  </tbody>\n",
       "</table>\n",
       "<p>5 rows × 22 columns</p>\n",
       "</div>"
      ],
      "text/plain": [
       "  Intake Date Intake Channel     Business Category  \\\n",
       "0  2025-08-27            311                 Other   \n",
       "1  2025-08-27            311  Misc Non-Food Retail   \n",
       "2  2025-08-27            311     Drug Store Retail   \n",
       "3  2025-08-27            311        Grocery-Retail   \n",
       "4  2025-08-27            311          Dry Cleaners   \n",
       "\n",
       "                 Complaint Code             Business Name Result Date  \\\n",
       "0                   Other - Z01       WILLIAMS CANDY SHOP  08/27/2025   \n",
       "1  Advertising/Misleading - A02         FRUIT GARDEN DELI  08/27/2025   \n",
       "2   Non-Delivery of Goods - N01       Care first Pharmacy  08/27/2025   \n",
       "3  Advertising/Misleading - A02  KINGS ONE DELI AND GRILL  08/27/2025   \n",
       "4                    Overcharge           Bright Cleaners  08/27/2025   \n",
       "\n",
       "                       Result  \\\n",
       "0             No Jurisdiction   \n",
       "1   Complaint Review Complete   \n",
       "2                    Referred   \n",
       "3   Complaint Review Complete   \n",
       "4  Insufficient Info Received   \n",
       "\n",
       "                                         Referred To Building Nbr  \\\n",
       "0                                                NaN         1318   \n",
       "1                                                NaN         1624   \n",
       "2  NYS Department of Education: Office of Profess...         3908   \n",
       "3                                                NaN         1424   \n",
       "4                                                NaN         1406   \n",
       "\n",
       "             Street1  ... Unit Type Apt/Suite      City State Postcode  \\\n",
       "0           SURF AVE  ...       NaN       NaN  BROOKLYN    NY    11224   \n",
       "1  SHEEPSHEAD BAY RD  ...       NaN       NaN  BROOKLYN    NY    11235   \n",
       "2    WHITE PLAINS RD  ...       NaN       NaN     BRONX    NY    10466   \n",
       "3  SHEEPSHEAD BAY RD  ...       NaN       NaN  BROOKLYN    NY    11235   \n",
       "4            1ST AVE  ...       NaN       NaN  NEW YORK    NY    10021   \n",
       "\n",
       "     Borough Community Board Council District   Latitude  Longitude  \n",
       "0   Brooklyn           313.0             47.0  40.575535 -73.981847  \n",
       "1   Brooklyn           315.0             48.0  40.586786 -73.952569  \n",
       "2      Bronx           212.0             12.0  40.886003 -73.861454  \n",
       "3   Brooklyn           315.0             48.0  40.587462 -73.954509  \n",
       "4  Manhattan           108.0              5.0  40.769358 -73.954851  \n",
       "\n",
       "[5 rows x 22 columns]"
      ]
     },
     "execution_count": 164,
     "metadata": {},
     "output_type": "execute_result"
    }
   ],
   "source": [
    "scams1.head()"
   ]
  },
  {
   "cell_type": "code",
   "execution_count": 165,
   "id": "9bd7e28f-08f1-498f-8b09-80e5bd4d918f",
   "metadata": {},
   "outputs": [],
   "source": [
    "immigration_scams = scams1[scams1['Business Category'].str.contains('Immigration Service Provider', case=False, na=False)]"
   ]
  },
  {
   "cell_type": "code",
   "execution_count": 166,
   "id": "766f7e9c-1cda-4235-99f9-91964f5e0bcb",
   "metadata": {},
   "outputs": [
    {
     "data": {
      "text/plain": [
       "83"
      ]
     },
     "execution_count": 166,
     "metadata": {},
     "output_type": "execute_result"
    }
   ],
   "source": [
    "len(immigration_scams)"
   ]
  },
  {
   "cell_type": "code",
   "execution_count": 167,
   "id": "2b2b1873-2b73-40a5-a1d8-61a27953459b",
   "metadata": {},
   "outputs": [
    {
     "data": {
      "text/html": [
       "<div>\n",
       "<style scoped>\n",
       "    .dataframe tbody tr th:only-of-type {\n",
       "        vertical-align: middle;\n",
       "    }\n",
       "\n",
       "    .dataframe tbody tr th {\n",
       "        vertical-align: top;\n",
       "    }\n",
       "\n",
       "    .dataframe thead th {\n",
       "        text-align: right;\n",
       "    }\n",
       "</style>\n",
       "<table border=\"1\" class=\"dataframe\">\n",
       "  <thead>\n",
       "    <tr style=\"text-align: right;\">\n",
       "      <th></th>\n",
       "      <th>Intake Date</th>\n",
       "      <th>Intake Channel</th>\n",
       "      <th>Business Category</th>\n",
       "      <th>Complaint Code</th>\n",
       "      <th>Business Name</th>\n",
       "      <th>Result Date</th>\n",
       "      <th>Result</th>\n",
       "      <th>Referred To</th>\n",
       "      <th>Building Nbr</th>\n",
       "      <th>Street1</th>\n",
       "      <th>...</th>\n",
       "      <th>Unit Type</th>\n",
       "      <th>Apt/Suite</th>\n",
       "      <th>City</th>\n",
       "      <th>State</th>\n",
       "      <th>Postcode</th>\n",
       "      <th>Borough</th>\n",
       "      <th>Community Board</th>\n",
       "      <th>Council District</th>\n",
       "      <th>Latitude</th>\n",
       "      <th>Longitude</th>\n",
       "    </tr>\n",
       "  </thead>\n",
       "  <tbody>\n",
       "    <tr>\n",
       "      <th>1281</th>\n",
       "      <td>2025-07-25</td>\n",
       "      <td>Hardcopy</td>\n",
       "      <td>Immigration Service Provider</td>\n",
       "      <td>Other - Z01</td>\n",
       "      <td>Business and Immigration Center Milo Skowronski</td>\n",
       "      <td>07/25/2025</td>\n",
       "      <td>Referred</td>\n",
       "      <td>Other</td>\n",
       "      <td>Riverside Station Blvd</td>\n",
       "      <td>Secaucus</td>\n",
       "      <td>...</td>\n",
       "      <td>NaN</td>\n",
       "      <td>NaN</td>\n",
       "      <td>Secaucus</td>\n",
       "      <td>NJ</td>\n",
       "      <td>07094</td>\n",
       "      <td>Outside NYC</td>\n",
       "      <td>NaN</td>\n",
       "      <td>NaN</td>\n",
       "      <td>NaN</td>\n",
       "      <td>NaN</td>\n",
       "    </tr>\n",
       "    <tr>\n",
       "      <th>1772</th>\n",
       "      <td>2025-07-21</td>\n",
       "      <td>Email/Fax</td>\n",
       "      <td>Immigration Service Provider</td>\n",
       "      <td>NaN</td>\n",
       "      <td>ADILAH DIBBA CORP</td>\n",
       "      <td>08/20/2025</td>\n",
       "      <td>Requested Information Not Provided</td>\n",
       "      <td>NaN</td>\n",
       "      <td>1231</td>\n",
       "      <td>LAFAYETTE AVE</td>\n",
       "      <td>...</td>\n",
       "      <td>NaN</td>\n",
       "      <td>NaN</td>\n",
       "      <td>BRONX</td>\n",
       "      <td>NY</td>\n",
       "      <td>10474</td>\n",
       "      <td>Bronx</td>\n",
       "      <td>202.0</td>\n",
       "      <td>17.0</td>\n",
       "      <td>40.816486</td>\n",
       "      <td>-73.890277</td>\n",
       "    </tr>\n",
       "    <tr>\n",
       "      <th>5125</th>\n",
       "      <td>2025-06-10</td>\n",
       "      <td>Online</td>\n",
       "      <td>Immigration Service Provider</td>\n",
       "      <td>Other - Z01</td>\n",
       "      <td>PROGRAM U.S. CITIZENSHIP</td>\n",
       "      <td>07/09/2025</td>\n",
       "      <td>Referred</td>\n",
       "      <td>Other</td>\n",
       "      <td>23130</td>\n",
       "      <td>87TH AVE</td>\n",
       "      <td>...</td>\n",
       "      <td>NaN</td>\n",
       "      <td>NaN</td>\n",
       "      <td>JAMAICA</td>\n",
       "      <td>NY</td>\n",
       "      <td>11427</td>\n",
       "      <td>Queens</td>\n",
       "      <td>413.0</td>\n",
       "      <td>23.0</td>\n",
       "      <td>40.731417</td>\n",
       "      <td>-73.737932</td>\n",
       "    </tr>\n",
       "    <tr>\n",
       "      <th>7147</th>\n",
       "      <td>2025-05-12</td>\n",
       "      <td>311</td>\n",
       "      <td>Immigration Service Provider</td>\n",
       "      <td>Non-Delivery of Goods - N01</td>\n",
       "      <td>Cabrera, Ramon</td>\n",
       "      <td>06/12/2025</td>\n",
       "      <td>Requested Information Not Provided</td>\n",
       "      <td>NaN</td>\n",
       "      <td>403</td>\n",
       "      <td>E 138TH ST</td>\n",
       "      <td>...</td>\n",
       "      <td>NaN</td>\n",
       "      <td>NaN</td>\n",
       "      <td>BRONX</td>\n",
       "      <td>NY</td>\n",
       "      <td>10454</td>\n",
       "      <td>Bronx</td>\n",
       "      <td>201.0</td>\n",
       "      <td>8.0</td>\n",
       "      <td>40.808895</td>\n",
       "      <td>-73.922363</td>\n",
       "    </tr>\n",
       "    <tr>\n",
       "      <th>7424</th>\n",
       "      <td>2025-05-07</td>\n",
       "      <td>311</td>\n",
       "      <td>Immigration Service Provider</td>\n",
       "      <td>Non-Delivery of Goods - N01</td>\n",
       "      <td>US Immigration and Customs Enforcement</td>\n",
       "      <td>05/07/2025</td>\n",
       "      <td>Referred</td>\n",
       "      <td>Other</td>\n",
       "      <td>26</td>\n",
       "      <td>FEDERAL PLZ</td>\n",
       "      <td>...</td>\n",
       "      <td>NaN</td>\n",
       "      <td>NaN</td>\n",
       "      <td>NEW YORK</td>\n",
       "      <td>NY</td>\n",
       "      <td>10278</td>\n",
       "      <td>Manhattan</td>\n",
       "      <td>101.0</td>\n",
       "      <td>1.0</td>\n",
       "      <td>40.716015</td>\n",
       "      <td>-74.004744</td>\n",
       "    </tr>\n",
       "  </tbody>\n",
       "</table>\n",
       "<p>5 rows × 22 columns</p>\n",
       "</div>"
      ],
      "text/plain": [
       "     Intake Date Intake Channel             Business Category  \\\n",
       "1281  2025-07-25       Hardcopy  Immigration Service Provider   \n",
       "1772  2025-07-21      Email/Fax  Immigration Service Provider   \n",
       "5125  2025-06-10         Online  Immigration Service Provider   \n",
       "7147  2025-05-12            311  Immigration Service Provider   \n",
       "7424  2025-05-07            311  Immigration Service Provider   \n",
       "\n",
       "                   Complaint Code  \\\n",
       "1281                  Other - Z01   \n",
       "1772                          NaN   \n",
       "5125                  Other - Z01   \n",
       "7147  Non-Delivery of Goods - N01   \n",
       "7424  Non-Delivery of Goods - N01   \n",
       "\n",
       "                                        Business Name Result Date  \\\n",
       "1281  Business and Immigration Center Milo Skowronski  07/25/2025   \n",
       "1772                                ADILAH DIBBA CORP  08/20/2025   \n",
       "5125                         PROGRAM U.S. CITIZENSHIP  07/09/2025   \n",
       "7147                                   Cabrera, Ramon  06/12/2025   \n",
       "7424           US Immigration and Customs Enforcement  05/07/2025   \n",
       "\n",
       "                                  Result Referred To            Building Nbr  \\\n",
       "1281                            Referred       Other  Riverside Station Blvd   \n",
       "1772  Requested Information Not Provided         NaN                    1231   \n",
       "5125                            Referred       Other                   23130   \n",
       "7147  Requested Information Not Provided         NaN                     403   \n",
       "7424                            Referred       Other                      26   \n",
       "\n",
       "            Street1  ... Unit Type Apt/Suite      City State Postcode  \\\n",
       "1281       Secaucus  ...       NaN       NaN  Secaucus    NJ    07094   \n",
       "1772  LAFAYETTE AVE  ...       NaN       NaN     BRONX    NY    10474   \n",
       "5125       87TH AVE  ...       NaN       NaN   JAMAICA    NY    11427   \n",
       "7147     E 138TH ST  ...       NaN       NaN     BRONX    NY    10454   \n",
       "7424    FEDERAL PLZ  ...       NaN       NaN  NEW YORK    NY    10278   \n",
       "\n",
       "          Borough Community Board Council District   Latitude  Longitude  \n",
       "1281  Outside NYC             NaN              NaN        NaN        NaN  \n",
       "1772        Bronx           202.0             17.0  40.816486 -73.890277  \n",
       "5125       Queens           413.0             23.0  40.731417 -73.737932  \n",
       "7147        Bronx           201.0              8.0  40.808895 -73.922363  \n",
       "7424    Manhattan           101.0              1.0  40.716015 -74.004744  \n",
       "\n",
       "[5 rows x 22 columns]"
      ]
     },
     "execution_count": 167,
     "metadata": {},
     "output_type": "execute_result"
    }
   ],
   "source": [
    "immigration_scams.head()"
   ]
  },
  {
   "cell_type": "code",
   "execution_count": 168,
   "id": "b79393f0-1d6c-4315-a5dd-0cfdcfb6b955",
   "metadata": {},
   "outputs": [],
   "source": [
    "immigration_scams.to_csv(\"../output/immigration_scams_complaints.csv\", index=False)"
   ]
  },
  {
   "cell_type": "code",
   "execution_count": 169,
   "id": "f023a5b6-5d39-464e-bf27-3c22ff3d545e",
   "metadata": {},
   "outputs": [
    {
     "name": "stdout",
     "output_type": "stream",
     "text": [
      "Borough\n",
      "Queens         25\n",
      "Manhattan      18\n",
      "Brooklyn       15\n",
      "Bronx          14\n",
      "Outside NYC     2\n",
      "Name: count, dtype: int64\n"
     ]
    }
   ],
   "source": [
    "complaints_by_borough = immigration_scams['Borough'].value_counts()\n",
    "print(complaints_by_borough)"
   ]
  },
  {
   "cell_type": "code",
   "execution_count": 170,
   "id": "c0e2ac03-9a85-4721-b915-b42b876f9cfd",
   "metadata": {},
   "outputs": [
    {
     "data": {
      "text/plain": [
       "Complaint Code\n",
       "Non-Delivery of Goods - N01                  13\n",
       "Documents/Paperwork Inaccurate or Missing     8\n",
       "Misrepresentation - M01                       7\n",
       "Advertising/Misleading - A02                  7\n",
       "Non-Delivery of Service - N02                 5\n",
       "Other - Z01                                   4\n",
       "Billing Dispute - B02                         3\n",
       "Exchange/Refund/Return                        3\n",
       "Goods or Services Not Delivered; -            2\n",
       "Bill of Rights                                2\n",
       "Name: count, dtype: int64"
      ]
     },
     "execution_count": 170,
     "metadata": {},
     "output_type": "execute_result"
    }
   ],
   "source": [
    "top_complaints = immigration_scams['Complaint Code'].value_counts().head(10)\n",
    "top_complaints.head(10)"
   ]
  },
  {
   "cell_type": "code",
   "execution_count": 173,
   "id": "e2c46b4a-3207-47cf-8035-7a58318bd83a",
   "metadata": {},
   "outputs": [
    {
     "data": {
      "text/html": [
       "<div>\n",
       "<style scoped>\n",
       "    .dataframe tbody tr th:only-of-type {\n",
       "        vertical-align: middle;\n",
       "    }\n",
       "\n",
       "    .dataframe tbody tr th {\n",
       "        vertical-align: top;\n",
       "    }\n",
       "\n",
       "    .dataframe thead th {\n",
       "        text-align: right;\n",
       "    }\n",
       "</style>\n",
       "<table border=\"1\" class=\"dataframe\">\n",
       "  <thead>\n",
       "    <tr style=\"text-align: right;\">\n",
       "      <th></th>\n",
       "      <th>Complaint Code</th>\n",
       "      <th>Result</th>\n",
       "      <th>Count</th>\n",
       "    </tr>\n",
       "  </thead>\n",
       "  <tbody>\n",
       "    <tr>\n",
       "      <th>13</th>\n",
       "      <td>Documents/Paperwork Inaccurate or Missing</td>\n",
       "      <td>Requested Information Not Provided</td>\n",
       "      <td>5</td>\n",
       "    </tr>\n",
       "    <tr>\n",
       "      <th>2</th>\n",
       "      <td>Advertising/Misleading - A02</td>\n",
       "      <td>Requested Information Not Provided</td>\n",
       "      <td>5</td>\n",
       "    </tr>\n",
       "    <tr>\n",
       "      <th>23</th>\n",
       "      <td>Non-Delivery of Goods - N01</td>\n",
       "      <td>Referred</td>\n",
       "      <td>5</td>\n",
       "    </tr>\n",
       "    <tr>\n",
       "      <th>24</th>\n",
       "      <td>Non-Delivery of Goods - N01</td>\n",
       "      <td>Requested Information Not Provided</td>\n",
       "      <td>5</td>\n",
       "    </tr>\n",
       "    <tr>\n",
       "      <th>19</th>\n",
       "      <td>Misrepresentation - M01</td>\n",
       "      <td>Requested Information Not Provided</td>\n",
       "      <td>4</td>\n",
       "    </tr>\n",
       "  </tbody>\n",
       "</table>\n",
       "</div>"
      ],
      "text/plain": [
       "                               Complaint Code  \\\n",
       "13  Documents/Paperwork Inaccurate or Missing   \n",
       "2                Advertising/Misleading - A02   \n",
       "23                Non-Delivery of Goods - N01   \n",
       "24                Non-Delivery of Goods - N01   \n",
       "19                    Misrepresentation - M01   \n",
       "\n",
       "                                Result  Count  \n",
       "13  Requested Information Not Provided      5  \n",
       "2   Requested Information Not Provided      5  \n",
       "23                            Referred      5  \n",
       "24  Requested Information Not Provided      5  \n",
       "19  Requested Information Not Provided      4  "
      ]
     },
     "execution_count": 173,
     "metadata": {},
     "output_type": "execute_result"
    }
   ],
   "source": [
    "complaint_result = (\n",
    "    immigration_scams.groupby(['Complaint Code', 'Result']).size()\n",
    "    .reset_index(name='Count')\n",
    ")\n",
    "\n",
    "top_complaints = complaint_result.sort_values(by='Count', ascending=False).head(10)\n",
    "\n",
    "top_complaints.head()"
   ]
  },
  {
   "cell_type": "code",
   "execution_count": 174,
   "id": "fdad0017-2253-4b99-bdc9-8c2178930b81",
   "metadata": {},
   "outputs": [
    {
     "name": "stdout",
     "output_type": "stream",
     "text": [
      "datetime64[ns]\n"
     ]
    }
   ],
   "source": [
    "print(immigration_scams['Intake Date'].dtype)"
   ]
  },
  {
   "cell_type": "code",
   "execution_count": 177,
   "id": "78ed4266-6b40-49b1-8cfe-762d7858cca9",
   "metadata": {},
   "outputs": [
    {
     "name": "stderr",
     "output_type": "stream",
     "text": [
      "/var/folders/5f/w2x0tg553jq8gh_60lnq6vr00000gn/T/ipykernel_38291/966925716.py:1: SettingWithCopyWarning: \n",
      "A value is trying to be set on a copy of a slice from a DataFrame.\n",
      "Try using .loc[row_indexer,col_indexer] = value instead\n",
      "\n",
      "See the caveats in the documentation: https://pandas.pydata.org/pandas-docs/stable/user_guide/indexing.html#returning-a-view-versus-a-copy\n",
      "  immigration_scams['year'] = immigration_scams['Intake Date'].dt.year\n"
     ]
    }
   ],
   "source": [
    "immigration_scams['year'] = immigration_scams['Intake Date'].dt.year"
   ]
  },
  {
   "cell_type": "code",
   "execution_count": 178,
   "id": "88f48035-a8ec-4249-95d2-09d35a45f504",
   "metadata": {},
   "outputs": [
    {
     "name": "stdout",
     "output_type": "stream",
     "text": [
      "   year  count\n",
      "0  2023     23\n",
      "1  2024     45\n",
      "2  2025     15\n"
     ]
    }
   ],
   "source": [
    "complaints = (\n",
    "    immigration_scams\n",
    "    .groupby('year')\n",
    "    .size()\n",
    "    .reset_index(name='count')\n",
    "    .sort_values('year')\n",
    ")\n",
    "\n",
    "print(complaints)"
   ]
  },
  {
   "cell_type": "code",
   "execution_count": 179,
   "id": "3adcc3f5-d306-42f4-897c-4ea978bda7d4",
   "metadata": {},
   "outputs": [],
   "source": [
    "complaints['year'] = complaints['year'].astype(int)"
   ]
  },
  {
   "cell_type": "code",
   "execution_count": 180,
   "id": "e1354c45-809f-4548-82e1-8adbbe5d52ca",
   "metadata": {},
   "outputs": [
    {
     "data": {
      "image/png": "[encoded data removed]",
      "text/plain": [
       "<Figure size 800x500 with 1 Axes>"
      ]
     },
     "metadata": {},
     "output_type": "display_data"
    }
   ],
   "source": [
    "plt.figure(figsize=(8,5))\n",
    "plt.plot(complaints['year'].astype(str), complaints['count'], marker='o', color='teal')\n",
    "plt.title('Complaints for immigration services')\n",
    "plt.xlabel('Year')\n",
    "plt.ylabel('Number of Complaints')\n",
    "plt.grid(True, linestyle='--', alpha=0.6)\n",
    "plt.tight_layout()\n",
    "\n",
    "plt.savefig('../output/immigration.jpg', dpi=300, bbox_inches='tight')"
   ]
  },
  {
   "cell_type": "code",
   "execution_count": 181,
   "id": "e69aaab8-eee8-4679-b7c9-b116e175763a",
   "metadata": {},
   "outputs": [
    {
     "name": "stdout",
     "output_type": "stream",
     "text": [
      "Business Name\n",
      "Mubarz Tours Inc                     4\n",
      "Bonwassit Tax Services               3\n",
      "Kofi O Amankwaa Esq                  3\n",
      "Unknown                              2\n",
      "A&M immigration services             2\n",
      "Immigration lawyers office           2\n",
      "SALIS LAW LLC                        2\n",
      "Mubarez Travel                       2\n",
      "Jamaican and Immigration Services    2\n",
      "la jornada                           1\n",
      "Name: count, dtype: int64\n"
     ]
    },
    {
     "data": {
      "image/png": "[encoded data removed]",
      "text/plain": [
       "<Figure size 800x500 with 1 Axes>"
      ]
     },
     "metadata": {},
     "output_type": "display_data"
    }
   ],
   "source": [
    "top_businesses = immigration_scams['Business Name'].value_counts().head(10)\n",
    "print(top_businesses)\n",
    "\n",
    "top_businesses.plot(kind='barh', figsize=(8,5))\n",
    "plt.title(\"Businesses with more complaints\")\n",
    "plt.xlabel(\"number of complaints\")\n",
    "plt.ylabel(\"business\")\n",
    "plt.tight_layout()\n",
    "\n",
    "plt.savefig('../output/business.jpg', dpi=300, bbox_inches='tight')"
   ]
  }
 ],
 "metadata": {
  "kernelspec": {
   "display_name": "Python 3 (ipykernel)",
   "language": "python",
   "name": "python3"
  },
  "language_info": {
   "codemirror_mode": {
    "name": "ipython",
    "version": 3
   },
   "file_extension": ".py",
   "mimetype": "text/x-python",
   "name": "python",
   "nbconvert_exporter": "python",
   "pygments_lexer": "ipython3",
   "version": "3.12.5"
  }
 },
 "nbformat": 4,
 "nbformat_minor": 5
}
